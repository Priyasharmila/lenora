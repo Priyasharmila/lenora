{
 "cells": [
  {
   "cell_type": "code",
   "execution_count": null,
   "id": "6c6d1bd4-12da-4cbd-8ee2-5413eec1119f",
   "metadata": {},
   "outputs": [
    {
     "name": "stdout",
     "output_type": "stream",
     "text": [
      "\n",
      "        ====== Car Rental Shop =======\n",
      "        1. Display available cars\n",
      "        2. Request a car on hourly basis $5\n",
      "        3. Request a car on daily basis $20\n",
      "        4. Request a car on weekly basis $60\n",
      "        5. Return a car\n",
      "        6. Exit\n",
      "        \n"
     ]
    },
    {
     "name": "stdin",
     "output_type": "stream",
     "text": [
      "Enter choice:  1\n"
     ]
    },
    {
     "name": "stdout",
     "output_type": "stream",
     "text": [
      "Currently 100 cars are available to rent.\n",
      "100\n",
      "\n",
      "        ====== Car Rental Shop =======\n",
      "        1. Display available cars\n",
      "        2. Request a car on hourly basis $5\n",
      "        3. Request a car on daily basis $20\n",
      "        4. Request a car on weekly basis $60\n",
      "        5. Return a car\n",
      "        6. Exit\n",
      "        \n"
     ]
    },
    {
     "name": "stdin",
     "output_type": "stream",
     "text": [
      "Enter choice:  2\n",
      "How many cars would you like to rent? 25\n"
     ]
    },
    {
     "name": "stdout",
     "output_type": "stream",
     "text": [
      "You have rented a 25 car(s) on hourly basis today at 18 hours.\n",
      "Rented car(s) at 2024-08-07 18:07:18.979859\n",
      "\n",
      "        ====== Car Rental Shop =======\n",
      "        1. Display available cars\n",
      "        2. Request a car on hourly basis $5\n",
      "        3. Request a car on daily basis $20\n",
      "        4. Request a car on weekly basis $60\n",
      "        5. Return a car\n",
      "        6. Exit\n",
      "        \n"
     ]
    },
    {
     "name": "stdin",
     "output_type": "stream",
     "text": [
      "Enter choice:  5\n"
     ]
    },
    {
     "name": "stdout",
     "output_type": "stream",
     "text": [
      "Your bill is $None\n",
      "\n",
      "        ====== Car Rental Shop =======\n",
      "        1. Display available cars\n",
      "        2. Request a car on hourly basis $5\n",
      "        3. Request a car on daily basis $20\n",
      "        4. Request a car on weekly basis $60\n",
      "        5. Return a car\n",
      "        6. Exit\n",
      "        \n"
     ]
    },
    {
     "name": "stdin",
     "output_type": "stream",
     "text": [
      "Enter choice:  1\n"
     ]
    },
    {
     "name": "stdout",
     "output_type": "stream",
     "text": [
      "Currently 75 cars are available to rent.\n",
      "75\n",
      "\n",
      "        ====== Car Rental Shop =======\n",
      "        1. Display available cars\n",
      "        2. Request a car on hourly basis $5\n",
      "        3. Request a car on daily basis $20\n",
      "        4. Request a car on weekly basis $60\n",
      "        5. Return a car\n",
      "        6. Exit\n",
      "        \n"
     ]
    },
    {
     "name": "stdin",
     "output_type": "stream",
     "text": [
      "Enter choice:  2\n",
      "How many cars would you like to rent? 5\n"
     ]
    },
    {
     "name": "stdout",
     "output_type": "stream",
     "text": [
      "You have rented a 5 car(s) on hourly basis today at 18 hours.\n",
      "Rented car(s) at 2024-08-07 18:09:38.012167\n",
      "\n",
      "        ====== Car Rental Shop =======\n",
      "        1. Display available cars\n",
      "        2. Request a car on hourly basis $5\n",
      "        3. Request a car on daily basis $20\n",
      "        4. Request a car on weekly basis $60\n",
      "        5. Return a car\n",
      "        6. Exit\n",
      "        \n"
     ]
    }
   ],
   "source": [
    "from car_rental import CarRental, Customer\n",
    "\n",
    "def main():\n",
    "    rental_shop = CarRental(100)  # Initialize the car rental shop with 100 cars\n",
    "    customer = Customer()\n",
    "    \n",
    "    while True:\n",
    "        print(\"\"\"\n",
    "        ====== Car Rental Shop =======\n",
    "        1. Display available cars\n",
    "        2. Request a car on hourly basis $5\n",
    "        3. Request a car on daily basis $20\n",
    "        4. Request a car on weekly basis $60\n",
    "        5. Return a car\n",
    "        6. Exit\n",
    "        \"\"\")\n",
    "        \n",
    "        choice = input(\"Enter choice: \")\n",
    "        \n",
    "        try:\n",
    "            choice = int(choice)\n",
    "        except ValueError:\n",
    "            print(\"Please enter a valid choice.\")\n",
    "            continue\n",
    "        \n",
    "        if choice == 1:\n",
    "            print(rental_shop. displayStock())\n",
    "        \n",
    "        elif choice == 2:\n",
    "            customer.rental_time = rental_shop.rentCarOnHourlyBasis(customer.requestCar())\n",
    "            customer.rental_basis = 1\n",
    "            print(f\"Rented car(s) at {customer.rental_time}\")\n",
    "        \n",
    "        elif choice == 3:\n",
    "            customer.rental_time = rental_shop.rentCarOnDailyBasis(customer.requestCar())\n",
    "            customer.rental_basis = 2\n",
    "            print(f\"Rented car(s) at {customer.rental_time}\")\n",
    "        \n",
    "        elif choice == 4:\n",
    "            customer.rental_time = rental_shop.rentCarOnWeeklyBasis(customer.requestCar())\n",
    "            customer.rental_basis = 3\n",
    "            print(f\"Rented car(s) at {customer.rental_time}\")\n",
    "        \n",
    "        elif choice == 5:\n",
    "            bill = rental_shop.returnCar(customer.returnCar())\n",
    "            print(f\"Your bill is ${bill}\")\n",
    "            customer.rental_basis, customer.rental_time, customer.cars = 0, 0, 0\n",
    "        \n",
    "        elif choice == 6:\n",
    "            break\n",
    "        \n",
    "        else:\n",
    "            print(\"Invalid input. Please enter a number between 1 and 6.\")\n",
    "\n",
    "if __name__ == \"__main__\":\n",
    "    main()"
   ]
  },
  {
   "cell_type": "code",
   "execution_count": null,
   "id": "b24584cb-ce87-4833-88d7-8819d93c49e5",
   "metadata": {},
   "outputs": [],
   "source": []
  }
 ],
 "metadata": {
  "kernelspec": {
   "display_name": "Python 3 (ipykernel)",
   "language": "python",
   "name": "python3"
  },
  "language_info": {
   "codemirror_mode": {
    "name": "ipython",
    "version": 3
   },
   "file_extension": ".py",
   "mimetype": "text/x-python",
   "name": "python",
   "nbconvert_exporter": "python",
   "pygments_lexer": "ipython3",
   "version": "3.12.4"
  }
 },
 "nbformat": 4,
 "nbformat_minor": 5
}
